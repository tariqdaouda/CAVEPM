{
  "nbformat": 4,
  "nbformat_minor": 0,
  "metadata": {
    "colab": {
      "name": "CAVEPM.ipynb",
      "version": "0.3.2",
      "provenance": [],
      "collapsed_sections": [],
      "toc_visible": true,
      "include_colab_link": true
    },
    "kernelspec": {
      "name": "python3",
      "display_name": "Python 3"
    }
  },
  "cells": [
    {
      "cell_type": "markdown",
      "metadata": {
        "id": "view-in-github",
        "colab_type": "text"
      },
      "source": [
        "<a href=\"https://colab.research.google.com/github/tariqdaouda/CAVEPM2019/blob/master/CAVEPM.ipynb\" target=\"_parent\"><img src=\"https://colab.research.google.com/assets/colab-badge.svg\" alt=\"Open In Colab\"/></a>"
      ]
    },
    {
      "cell_type": "markdown",
      "metadata": {
        "id": "osaxIu2x1Pbm",
        "colab_type": "text"
      },
      "source": [
        "# Installation\n",
        "Installing all the packages needed for running the code"
      ]
    },
    {
      "cell_type": "code",
      "metadata": {
        "id": "D4P_KzF0vVWw",
        "colab_type": "code",
        "outputId": "f3c3f119-72a3-4b93-d218-650a71e9e587",
        "colab": {
          "base_uri": "https://localhost:8080/",
          "height": 663
        }
      },
      "source": [
        "!pip install sklearn\n",
        "!pip install pandas\n",
        "!pip install altair\n",
        "!pip install seaborn\n",
        "!git clone https://github.com/tariqdaouda/CAVEPM2019"
      ],
      "execution_count": 0,
      "outputs": [
        {
          "output_type": "stream",
          "text": [
            "Requirement already satisfied: sklearn in /usr/local/lib/python3.6/dist-packages (0.0)\n",
            "Requirement already satisfied: scikit-learn in /usr/local/lib/python3.6/dist-packages (from sklearn) (0.20.3)\n",
            "Requirement already satisfied: scipy>=0.13.3 in /usr/local/lib/python3.6/dist-packages (from scikit-learn->sklearn) (1.2.1)\n",
            "Requirement already satisfied: numpy>=1.8.2 in /usr/local/lib/python3.6/dist-packages (from scikit-learn->sklearn) (1.16.3)\n",
            "Requirement already satisfied: pandas in /usr/local/lib/python3.6/dist-packages (0.24.2)\n",
            "Requirement already satisfied: python-dateutil>=2.5.0 in /usr/local/lib/python3.6/dist-packages (from pandas) (2.5.3)\n",
            "Requirement already satisfied: pytz>=2011k in /usr/local/lib/python3.6/dist-packages (from pandas) (2018.9)\n",
            "Requirement already satisfied: numpy>=1.12.0 in /usr/local/lib/python3.6/dist-packages (from pandas) (1.16.3)\n",
            "Requirement already satisfied: six>=1.5 in /usr/local/lib/python3.6/dist-packages (from python-dateutil>=2.5.0->pandas) (1.12.0)\n",
            "Requirement already satisfied: altair in /usr/local/lib/python3.6/dist-packages (3.0.1)\n",
            "Requirement already satisfied: jsonschema in /usr/local/lib/python3.6/dist-packages (from altair) (2.6.0)\n",
            "Requirement already satisfied: jinja2 in /usr/local/lib/python3.6/dist-packages (from altair) (2.10.1)\n",
            "Requirement already satisfied: six in /usr/local/lib/python3.6/dist-packages (from altair) (1.12.0)\n",
            "Requirement already satisfied: toolz in /usr/local/lib/python3.6/dist-packages (from altair) (0.9.0)\n",
            "Requirement already satisfied: numpy in /usr/local/lib/python3.6/dist-packages (from altair) (1.16.3)\n",
            "Requirement already satisfied: pandas in /usr/local/lib/python3.6/dist-packages (from altair) (0.24.2)\n",
            "Requirement already satisfied: entrypoints in /usr/local/lib/python3.6/dist-packages (from altair) (0.3)\n",
            "Requirement already satisfied: MarkupSafe>=0.23 in /usr/local/lib/python3.6/dist-packages (from jinja2->altair) (1.1.1)\n",
            "Requirement already satisfied: python-dateutil>=2.5.0 in /usr/local/lib/python3.6/dist-packages (from pandas->altair) (2.5.3)\n",
            "Requirement already satisfied: pytz>=2011k in /usr/local/lib/python3.6/dist-packages (from pandas->altair) (2018.9)\n",
            "Requirement already satisfied: seaborn in /usr/local/lib/python3.6/dist-packages (0.9.0)\n",
            "Requirement already satisfied: scipy>=0.14.0 in /usr/local/lib/python3.6/dist-packages (from seaborn) (1.2.1)\n",
            "Requirement already satisfied: matplotlib>=1.4.3 in /usr/local/lib/python3.6/dist-packages (from seaborn) (3.0.3)\n",
            "Requirement already satisfied: pandas>=0.15.2 in /usr/local/lib/python3.6/dist-packages (from seaborn) (0.24.2)\n",
            "Requirement already satisfied: numpy>=1.9.3 in /usr/local/lib/python3.6/dist-packages (from seaborn) (1.16.3)\n",
            "Requirement already satisfied: cycler>=0.10 in /usr/local/lib/python3.6/dist-packages (from matplotlib>=1.4.3->seaborn) (0.10.0)\n",
            "Requirement already satisfied: pyparsing!=2.0.4,!=2.1.2,!=2.1.6,>=2.0.1 in /usr/local/lib/python3.6/dist-packages (from matplotlib>=1.4.3->seaborn) (2.4.0)\n",
            "Requirement already satisfied: python-dateutil>=2.1 in /usr/local/lib/python3.6/dist-packages (from matplotlib>=1.4.3->seaborn) (2.5.3)\n",
            "Requirement already satisfied: kiwisolver>=1.0.1 in /usr/local/lib/python3.6/dist-packages (from matplotlib>=1.4.3->seaborn) (1.1.0)\n",
            "Requirement already satisfied: pytz>=2011k in /usr/local/lib/python3.6/dist-packages (from pandas>=0.15.2->seaborn) (2018.9)\n",
            "Requirement already satisfied: six in /usr/local/lib/python3.6/dist-packages (from cycler>=0.10->matplotlib>=1.4.3->seaborn) (1.12.0)\n",
            "Requirement already satisfied: setuptools in /usr/local/lib/python3.6/dist-packages (from kiwisolver>=1.0.1->matplotlib>=1.4.3->seaborn) (41.0.1)\n",
            "Cloning into 'CAVEPM2019'...\n",
            "remote: Enumerating objects: 14, done.\u001b[K\n",
            "remote: Counting objects: 100% (14/14), done.\u001b[K\n",
            "remote: Compressing objects: 100% (11/11), done.\u001b[K\n",
            "remote: Total 14 (delta 2), reused 0 (delta 0), pack-reused 0\u001b[K\n",
            "Unpacking objects: 100% (14/14), done.\n"
          ],
          "name": "stdout"
        }
      ]
    },
    {
      "cell_type": "markdown",
      "metadata": {
        "id": "I46ipU918-Ry",
        "colab_type": "text"
      },
      "source": [
        "# Initialisation"
      ]
    },
    {
      "cell_type": "code",
      "metadata": {
        "id": "0YUd1guZ84kX",
        "colab_type": "code",
        "colab": {}
      },
      "source": [
        "import pandas as pd\n",
        "import numpy as np\n",
        "import sklearn\n"
      ],
      "execution_count": 0,
      "outputs": []
    },
    {
      "cell_type": "code",
      "metadata": {
        "id": "kC1fgTPd9lDH",
        "colab_type": "code",
        "colab": {}
      },
      "source": [
        "#functions for cleaning and formating data\n",
        "def dataframe_encode(df) :\n",
        "  \"\"\"\n",
        "  - Transform all nominal values into categorical values\n",
        "  - Sets all numerical values between 0 and 1\n",
        "  - Returns the transformed dataset along with a dict to retreive cateory names\n",
        "  from numerical labels\n",
        "  \"\"\"\n",
        "  translation = {}\n",
        "  for colname in df.columns :\n",
        "    if df[colname].dtype == np.object :\n",
        "      enc = df[colname].astype(\"category\")\n",
        "      codes = df[colname].astype(\"category\").cat.codes.astype(\"int32\")\n",
        "      codes = codes + max(abs(codes)) + 1\n",
        "      \n",
        "      translation[colname] = { str(code): name for name, code in zip(df[colname], codes) }\n",
        "      df[colname] = codes\n",
        "    else :\n",
        "      df[colname] = df[colname].astype(\"float32\") / df[colname].max()\n",
        "  return df, translation\n",
        "\n",
        "def df_to_dataset(df, target_column) :\n",
        "  x = df.copy()\n",
        "  y = df[target_column]\n",
        "  \n",
        "  x = x.drop([target_column], axis=1)\n",
        "  \n",
        "  return x, y\n",
        "\n",
        "def class_to_label(labels, translation) :\n",
        "  return pd.Series(labels).astype(\"str\").replace(translation)\n",
        "\n",
        "def remove_nominal(df) :\n",
        "  return df.select_dtypes(include=['float32'])\n",
        "\n",
        "def scale_normalize(df) :\n",
        "  return df / df.max()\n",
        " \n",
        "\n",
        "def normalize(df) :\n",
        "  return (df- df.mean()) / df.std()"
      ],
      "execution_count": 0,
      "outputs": []
    },
    {
      "cell_type": "markdown",
      "metadata": {
        "id": "dpKM5u2B52qa",
        "colab_type": "text"
      },
      "source": [
        "# Data handling"
      ]
    },
    {
      "cell_type": "code",
      "metadata": {
        "id": "Om6EKjfv9YHd",
        "colab_type": "code",
        "outputId": "ac6c0e5d-84ae-4c9c-dd24-9ef08fd7eb20",
        "colab": {
          "base_uri": "https://localhost:8080/",
          "height": 224
        }
      },
      "source": [
        "#Loading the horse dataset\n",
        "horse_original = pd.read_csv(\"CAVEPM2019/data/horse-colic-dataset/horse.csv\")\n",
        "horse_original = horse_original.fillna(0) #replace NaN values by 0\n",
        "for colname in ('hospital_number', 'lesion_1', 'lesion_2', 'lesion_3') :\n",
        "  horse_original[colname] = horse_original[colname].astype(\"object\") #hospital numbers are not real numerical values\n",
        "horse_original.head()"
      ],
      "execution_count": 0,
      "outputs": [
        {
          "output_type": "execute_result",
          "data": {
            "text/html": [
              "<div>\n",
              "<style scoped>\n",
              "    .dataframe tbody tr th:only-of-type {\n",
              "        vertical-align: middle;\n",
              "    }\n",
              "\n",
              "    .dataframe tbody tr th {\n",
              "        vertical-align: top;\n",
              "    }\n",
              "\n",
              "    .dataframe thead th {\n",
              "        text-align: right;\n",
              "    }\n",
              "</style>\n",
              "<table border=\"1\" class=\"dataframe\">\n",
              "  <thead>\n",
              "    <tr style=\"text-align: right;\">\n",
              "      <th></th>\n",
              "      <th>surgery</th>\n",
              "      <th>age</th>\n",
              "      <th>hospital_number</th>\n",
              "      <th>rectal_temp</th>\n",
              "      <th>pulse</th>\n",
              "      <th>respiratory_rate</th>\n",
              "      <th>temp_of_extremities</th>\n",
              "      <th>peripheral_pulse</th>\n",
              "      <th>mucous_membrane</th>\n",
              "      <th>capillary_refill_time</th>\n",
              "      <th>pain</th>\n",
              "      <th>peristalsis</th>\n",
              "      <th>abdominal_distention</th>\n",
              "      <th>nasogastric_tube</th>\n",
              "      <th>nasogastric_reflux</th>\n",
              "      <th>nasogastric_reflux_ph</th>\n",
              "      <th>rectal_exam_feces</th>\n",
              "      <th>abdomen</th>\n",
              "      <th>packed_cell_volume</th>\n",
              "      <th>total_protein</th>\n",
              "      <th>abdomo_appearance</th>\n",
              "      <th>abdomo_protein</th>\n",
              "      <th>outcome</th>\n",
              "      <th>surgical_lesion</th>\n",
              "      <th>lesion_1</th>\n",
              "      <th>lesion_2</th>\n",
              "      <th>lesion_3</th>\n",
              "      <th>cp_data</th>\n",
              "    </tr>\n",
              "  </thead>\n",
              "  <tbody>\n",
              "    <tr>\n",
              "      <th>0</th>\n",
              "      <td>no</td>\n",
              "      <td>adult</td>\n",
              "      <td>530101</td>\n",
              "      <td>38.5</td>\n",
              "      <td>66.0</td>\n",
              "      <td>28.0</td>\n",
              "      <td>cool</td>\n",
              "      <td>reduced</td>\n",
              "      <td>0</td>\n",
              "      <td>more_3_sec</td>\n",
              "      <td>extreme_pain</td>\n",
              "      <td>absent</td>\n",
              "      <td>severe</td>\n",
              "      <td>0</td>\n",
              "      <td>0</td>\n",
              "      <td>0.0</td>\n",
              "      <td>decreased</td>\n",
              "      <td>distend_large</td>\n",
              "      <td>45.0</td>\n",
              "      <td>8.4</td>\n",
              "      <td>0</td>\n",
              "      <td>0.0</td>\n",
              "      <td>died</td>\n",
              "      <td>no</td>\n",
              "      <td>11300</td>\n",
              "      <td>0</td>\n",
              "      <td>0</td>\n",
              "      <td>no</td>\n",
              "    </tr>\n",
              "    <tr>\n",
              "      <th>1</th>\n",
              "      <td>yes</td>\n",
              "      <td>adult</td>\n",
              "      <td>534817</td>\n",
              "      <td>39.2</td>\n",
              "      <td>88.0</td>\n",
              "      <td>20.0</td>\n",
              "      <td>0</td>\n",
              "      <td>0</td>\n",
              "      <td>pale_cyanotic</td>\n",
              "      <td>less_3_sec</td>\n",
              "      <td>mild_pain</td>\n",
              "      <td>absent</td>\n",
              "      <td>slight</td>\n",
              "      <td>0</td>\n",
              "      <td>0</td>\n",
              "      <td>0.0</td>\n",
              "      <td>absent</td>\n",
              "      <td>other</td>\n",
              "      <td>50.0</td>\n",
              "      <td>85.0</td>\n",
              "      <td>cloudy</td>\n",
              "      <td>2.0</td>\n",
              "      <td>euthanized</td>\n",
              "      <td>no</td>\n",
              "      <td>2208</td>\n",
              "      <td>0</td>\n",
              "      <td>0</td>\n",
              "      <td>no</td>\n",
              "    </tr>\n",
              "    <tr>\n",
              "      <th>2</th>\n",
              "      <td>no</td>\n",
              "      <td>adult</td>\n",
              "      <td>530334</td>\n",
              "      <td>38.3</td>\n",
              "      <td>40.0</td>\n",
              "      <td>24.0</td>\n",
              "      <td>normal</td>\n",
              "      <td>normal</td>\n",
              "      <td>pale_pink</td>\n",
              "      <td>less_3_sec</td>\n",
              "      <td>mild_pain</td>\n",
              "      <td>hypomotile</td>\n",
              "      <td>none</td>\n",
              "      <td>0</td>\n",
              "      <td>0</td>\n",
              "      <td>0.0</td>\n",
              "      <td>normal</td>\n",
              "      <td>normal</td>\n",
              "      <td>33.0</td>\n",
              "      <td>6.7</td>\n",
              "      <td>0</td>\n",
              "      <td>0.0</td>\n",
              "      <td>lived</td>\n",
              "      <td>no</td>\n",
              "      <td>0</td>\n",
              "      <td>0</td>\n",
              "      <td>0</td>\n",
              "      <td>yes</td>\n",
              "    </tr>\n",
              "    <tr>\n",
              "      <th>3</th>\n",
              "      <td>yes</td>\n",
              "      <td>young</td>\n",
              "      <td>5290409</td>\n",
              "      <td>39.1</td>\n",
              "      <td>164.0</td>\n",
              "      <td>84.0</td>\n",
              "      <td>cold</td>\n",
              "      <td>normal</td>\n",
              "      <td>dark_cyanotic</td>\n",
              "      <td>more_3_sec</td>\n",
              "      <td>depressed</td>\n",
              "      <td>absent</td>\n",
              "      <td>severe</td>\n",
              "      <td>none</td>\n",
              "      <td>less_1_liter</td>\n",
              "      <td>5.0</td>\n",
              "      <td>decreased</td>\n",
              "      <td>0</td>\n",
              "      <td>48.0</td>\n",
              "      <td>7.2</td>\n",
              "      <td>serosanguious</td>\n",
              "      <td>5.3</td>\n",
              "      <td>died</td>\n",
              "      <td>yes</td>\n",
              "      <td>2208</td>\n",
              "      <td>0</td>\n",
              "      <td>0</td>\n",
              "      <td>yes</td>\n",
              "    </tr>\n",
              "    <tr>\n",
              "      <th>4</th>\n",
              "      <td>no</td>\n",
              "      <td>adult</td>\n",
              "      <td>530255</td>\n",
              "      <td>37.3</td>\n",
              "      <td>104.0</td>\n",
              "      <td>35.0</td>\n",
              "      <td>0</td>\n",
              "      <td>0</td>\n",
              "      <td>dark_cyanotic</td>\n",
              "      <td>more_3_sec</td>\n",
              "      <td>0</td>\n",
              "      <td>0</td>\n",
              "      <td>0</td>\n",
              "      <td>0</td>\n",
              "      <td>0</td>\n",
              "      <td>0.0</td>\n",
              "      <td>0</td>\n",
              "      <td>0</td>\n",
              "      <td>74.0</td>\n",
              "      <td>7.4</td>\n",
              "      <td>0</td>\n",
              "      <td>0.0</td>\n",
              "      <td>died</td>\n",
              "      <td>no</td>\n",
              "      <td>4300</td>\n",
              "      <td>0</td>\n",
              "      <td>0</td>\n",
              "      <td>no</td>\n",
              "    </tr>\n",
              "  </tbody>\n",
              "</table>\n",
              "</div>"
            ],
            "text/plain": [
              "  surgery    age hospital_number  ...  lesion_2  lesion_3  cp_data\n",
              "0      no  adult          530101  ...         0         0       no\n",
              "1     yes  adult          534817  ...         0         0       no\n",
              "2      no  adult          530334  ...         0         0      yes\n",
              "3     yes  young         5290409  ...         0         0      yes\n",
              "4      no  adult          530255  ...         0         0       no\n",
              "\n",
              "[5 rows x 28 columns]"
            ]
          },
          "metadata": {
            "tags": []
          },
          "execution_count": 9
        }
      ]
    },
    {
      "cell_type": "code",
      "metadata": {
        "id": "c9ZoRmEEF_SK",
        "colab_type": "code",
        "outputId": "50dc7f85-ee60-486d-f438-e4f826672738",
        "colab": {
          "base_uri": "https://localhost:8080/",
          "height": 224
        }
      },
      "source": [
        "#Cleaning and formating data\n",
        "horse, translations = dataframe_encode(horse_original)\n",
        "horse.head()"
      ],
      "execution_count": 0,
      "outputs": [
        {
          "output_type": "execute_result",
          "data": {
            "text/html": [
              "<div>\n",
              "<style scoped>\n",
              "    .dataframe tbody tr th:only-of-type {\n",
              "        vertical-align: middle;\n",
              "    }\n",
              "\n",
              "    .dataframe tbody tr th {\n",
              "        vertical-align: top;\n",
              "    }\n",
              "\n",
              "    .dataframe thead th {\n",
              "        text-align: right;\n",
              "    }\n",
              "</style>\n",
              "<table border=\"1\" class=\"dataframe\">\n",
              "  <thead>\n",
              "    <tr style=\"text-align: right;\">\n",
              "      <th></th>\n",
              "      <th>surgery</th>\n",
              "      <th>age</th>\n",
              "      <th>hospital_number</th>\n",
              "      <th>rectal_temp</th>\n",
              "      <th>pulse</th>\n",
              "      <th>respiratory_rate</th>\n",
              "      <th>temp_of_extremities</th>\n",
              "      <th>peripheral_pulse</th>\n",
              "      <th>mucous_membrane</th>\n",
              "      <th>capillary_refill_time</th>\n",
              "      <th>pain</th>\n",
              "      <th>peristalsis</th>\n",
              "      <th>abdominal_distention</th>\n",
              "      <th>nasogastric_tube</th>\n",
              "      <th>nasogastric_reflux</th>\n",
              "      <th>nasogastric_reflux_ph</th>\n",
              "      <th>rectal_exam_feces</th>\n",
              "      <th>abdomen</th>\n",
              "      <th>packed_cell_volume</th>\n",
              "      <th>total_protein</th>\n",
              "      <th>abdomo_appearance</th>\n",
              "      <th>abdomo_protein</th>\n",
              "      <th>outcome</th>\n",
              "      <th>surgical_lesion</th>\n",
              "      <th>lesion_1</th>\n",
              "      <th>lesion_2</th>\n",
              "      <th>lesion_3</th>\n",
              "      <th>cp_data</th>\n",
              "    </tr>\n",
              "  </thead>\n",
              "  <tbody>\n",
              "    <tr>\n",
              "      <th>0</th>\n",
              "      <td>2</td>\n",
              "      <td>2</td>\n",
              "      <td>408</td>\n",
              "      <td>0.943627</td>\n",
              "      <td>0.358696</td>\n",
              "      <td>0.291667</td>\n",
              "      <td>7</td>\n",
              "      <td>9</td>\n",
              "      <td>7</td>\n",
              "      <td>7</td>\n",
              "      <td>9</td>\n",
              "      <td>6</td>\n",
              "      <td>8</td>\n",
              "      <td>4</td>\n",
              "      <td>4</td>\n",
              "      <td>0.000000</td>\n",
              "      <td>7</td>\n",
              "      <td>7</td>\n",
              "      <td>0.600000</td>\n",
              "      <td>0.094382</td>\n",
              "      <td>4</td>\n",
              "      <td>0.000000</td>\n",
              "      <td>3</td>\n",
              "      <td>2</td>\n",
              "      <td>116</td>\n",
              "      <td>6</td>\n",
              "      <td>2</td>\n",
              "      <td>2</td>\n",
              "    </tr>\n",
              "    <tr>\n",
              "      <th>1</th>\n",
              "      <td>3</td>\n",
              "      <td>2</td>\n",
              "      <td>497</td>\n",
              "      <td>0.960784</td>\n",
              "      <td>0.478261</td>\n",
              "      <td>0.208333</td>\n",
              "      <td>5</td>\n",
              "      <td>5</td>\n",
              "      <td>12</td>\n",
              "      <td>6</td>\n",
              "      <td>10</td>\n",
              "      <td>6</td>\n",
              "      <td>9</td>\n",
              "      <td>4</td>\n",
              "      <td>4</td>\n",
              "      <td>0.000000</td>\n",
              "      <td>6</td>\n",
              "      <td>11</td>\n",
              "      <td>0.666667</td>\n",
              "      <td>0.955056</td>\n",
              "      <td>6</td>\n",
              "      <td>0.198020</td>\n",
              "      <td>4</td>\n",
              "      <td>2</td>\n",
              "      <td>74</td>\n",
              "      <td>6</td>\n",
              "      <td>2</td>\n",
              "      <td>2</td>\n",
              "    </tr>\n",
              "    <tr>\n",
              "      <th>2</th>\n",
              "      <td>2</td>\n",
              "      <td>2</td>\n",
              "      <td>423</td>\n",
              "      <td>0.938725</td>\n",
              "      <td>0.217391</td>\n",
              "      <td>0.250000</td>\n",
              "      <td>8</td>\n",
              "      <td>8</td>\n",
              "      <td>13</td>\n",
              "      <td>6</td>\n",
              "      <td>10</td>\n",
              "      <td>8</td>\n",
              "      <td>7</td>\n",
              "      <td>4</td>\n",
              "      <td>4</td>\n",
              "      <td>0.000000</td>\n",
              "      <td>9</td>\n",
              "      <td>10</td>\n",
              "      <td>0.440000</td>\n",
              "      <td>0.075281</td>\n",
              "      <td>4</td>\n",
              "      <td>0.000000</td>\n",
              "      <td>5</td>\n",
              "      <td>2</td>\n",
              "      <td>61</td>\n",
              "      <td>6</td>\n",
              "      <td>2</td>\n",
              "      <td>3</td>\n",
              "    </tr>\n",
              "    <tr>\n",
              "      <th>3</th>\n",
              "      <td>3</td>\n",
              "      <td>3</td>\n",
              "      <td>547</td>\n",
              "      <td>0.958333</td>\n",
              "      <td>0.891304</td>\n",
              "      <td>0.875000</td>\n",
              "      <td>6</td>\n",
              "      <td>8</td>\n",
              "      <td>10</td>\n",
              "      <td>7</td>\n",
              "      <td>8</td>\n",
              "      <td>6</td>\n",
              "      <td>8</td>\n",
              "      <td>5</td>\n",
              "      <td>5</td>\n",
              "      <td>0.666667</td>\n",
              "      <td>7</td>\n",
              "      <td>6</td>\n",
              "      <td>0.640000</td>\n",
              "      <td>0.080899</td>\n",
              "      <td>7</td>\n",
              "      <td>0.524752</td>\n",
              "      <td>3</td>\n",
              "      <td>3</td>\n",
              "      <td>74</td>\n",
              "      <td>6</td>\n",
              "      <td>2</td>\n",
              "      <td>3</td>\n",
              "    </tr>\n",
              "    <tr>\n",
              "      <th>4</th>\n",
              "      <td>2</td>\n",
              "      <td>2</td>\n",
              "      <td>416</td>\n",
              "      <td>0.914216</td>\n",
              "      <td>0.565217</td>\n",
              "      <td>0.364583</td>\n",
              "      <td>5</td>\n",
              "      <td>5</td>\n",
              "      <td>10</td>\n",
              "      <td>7</td>\n",
              "      <td>6</td>\n",
              "      <td>5</td>\n",
              "      <td>5</td>\n",
              "      <td>4</td>\n",
              "      <td>4</td>\n",
              "      <td>0.000000</td>\n",
              "      <td>5</td>\n",
              "      <td>6</td>\n",
              "      <td>0.986667</td>\n",
              "      <td>0.083146</td>\n",
              "      <td>4</td>\n",
              "      <td>0.000000</td>\n",
              "      <td>3</td>\n",
              "      <td>2</td>\n",
              "      <td>97</td>\n",
              "      <td>6</td>\n",
              "      <td>2</td>\n",
              "      <td>2</td>\n",
              "    </tr>\n",
              "  </tbody>\n",
              "</table>\n",
              "</div>"
            ],
            "text/plain": [
              "   surgery  age  hospital_number  ...  lesion_2  lesion_3  cp_data\n",
              "0        2    2              408  ...         6         2        2\n",
              "1        3    2              497  ...         6         2        2\n",
              "2        2    2              423  ...         6         2        3\n",
              "3        3    3              547  ...         6         2        3\n",
              "4        2    2              416  ...         6         2        2\n",
              "\n",
              "[5 rows x 28 columns]"
            ]
          },
          "metadata": {
            "tags": []
          },
          "execution_count": 10
        }
      ]
    },
    {
      "cell_type": "code",
      "metadata": {
        "id": "v0Ix_L7pM7nP",
        "colab_type": "code",
        "outputId": "7dabc864-8314-4bb0-cd42-a5bcf0bff7ba",
        "colab": {
          "base_uri": "https://localhost:8080/",
          "height": 34
        }
      },
      "source": [
        "translations[\"outcome\"]"
      ],
      "execution_count": 0,
      "outputs": [
        {
          "output_type": "execute_result",
          "data": {
            "text/plain": [
              "{'3': 'died', '4': 'euthanized', '5': 'lived'}"
            ]
          },
          "metadata": {
            "tags": []
          },
          "execution_count": 11
        }
      ]
    },
    {
      "cell_type": "markdown",
      "metadata": {
        "id": "JybXATMe6ODt",
        "colab_type": "text"
      },
      "source": [
        "# K Nearest Neighbours"
      ]
    },
    {
      "cell_type": "code",
      "metadata": {
        "id": "gdJNxhQc089I",
        "colab_type": "code",
        "outputId": "070d5273-06f9-4c42-f569-173f5680e04e",
        "colab": {
          "base_uri": "https://localhost:8080/",
          "height": 51
        }
      },
      "source": [
        "from sklearn.neighbors import KNeighborsClassifier\n",
        "\n",
        "X, y = df_to_dataset(horse, \"outcome\")\n",
        "\n",
        "KNN = KNeighborsClassifier(n_neighbors=3)\n",
        "KNN.fit(X, y) \n",
        "\n",
        "print('Accuracy:')\n",
        "print(KNN.score(X, y))"
      ],
      "execution_count": 0,
      "outputs": [
        {
          "output_type": "stream",
          "text": [
            "Accuracy:\n",
            "0.7859531772575251\n"
          ],
          "name": "stdout"
        }
      ]
    },
    {
      "cell_type": "code",
      "metadata": {
        "id": "0XI3w2VpdxIS",
        "colab_type": "code",
        "outputId": "7e4b830d-9457-4a67-92b3-9259be5e2788",
        "colab": {
          "base_uri": "https://localhost:8080/",
          "height": 51
        }
      },
      "source": [
        "from sklearn.model_selection import train_test_split\n",
        "\n",
        "X_train, X_test, y_train, y_test = train_test_split(X, y, test_size=0.20)\n",
        "\n",
        "KNN = KNeighborsClassifier(n_neighbors=3)\n",
        "KNN.fit(X_train, y_train) \n",
        "\n",
        "print('Accuracy:')\n",
        "print(KNN.score(X_test, y_test))"
      ],
      "execution_count": 0,
      "outputs": [
        {
          "output_type": "stream",
          "text": [
            "Accuracy:\n",
            "0.6\n"
          ],
          "name": "stdout"
        }
      ]
    },
    {
      "cell_type": "code",
      "metadata": {
        "id": "qqD5QTbOe2PY",
        "colab_type": "code",
        "outputId": "cafda337-fbd9-4933-e233-dbb4fbb65017",
        "colab": {
          "base_uri": "https://localhost:8080/",
          "height": 340
        }
      },
      "source": [
        "from sklearn.model_selection import cross_val_score\n",
        "\n",
        "X_train, X_test, y_train, y_test = train_test_split(X, y, test_size=0.20)\n",
        "\n",
        "best_score, best_k, best_model = -1, None, None\n",
        "for k in (3, 5, 7, 11, 13) :\n",
        "  KNN = KNeighborsClassifier(n_neighbors=k)\n",
        "  scores = cross_val_score(KNN, X_train, y_train, cv=10)\n",
        "  avg = np.mean(scores)\n",
        "  \n",
        "  if avg > best_score:\n",
        "    best_score, best_k, best_model = avg, k, KNN\n",
        "  \n",
        "  print(\"---------\")\n",
        "  print(\"K:\", k)\n",
        "  #print('10 X Val Accuracy:', scores)\n",
        "  print('Average:', avg)\n",
        "\n",
        "print(\"===========\")\n",
        "\n",
        "print(\"Best k:\", best_k, \"Best score:\", best_score)\n",
        "\n",
        "KNN = KNeighborsClassifier(n_neighbors=best_k)\n",
        "KNN.fit(X_train, y_train)\n",
        "print('Test accuracy:')\n",
        "print(KNN.score(X_test, y_test))"
      ],
      "execution_count": 0,
      "outputs": [
        {
          "output_type": "stream",
          "text": [
            "---------\n",
            "K: 3\n",
            "Average: 0.6376561264822134\n",
            "---------\n",
            "K: 5\n",
            "Average: 0.6138992094861659\n",
            "---------\n",
            "K: 7\n",
            "Average: 0.6275210803689065\n",
            "---------\n",
            "K: 11\n",
            "Average: 0.6189156785243741\n",
            "---------\n",
            "K: 13\n",
            "Average: 0.619096837944664\n",
            "===========\n",
            "Best k: 3 Best score: 0.6376561264822134\n",
            "Test accuracy:\n",
            "0.65\n"
          ],
          "name": "stdout"
        }
      ]
    },
    {
      "cell_type": "markdown",
      "metadata": {
        "id": "W8wLihwML5yK",
        "colab_type": "text"
      },
      "source": [
        "# Feedforward neural network"
      ]
    },
    {
      "cell_type": "code",
      "metadata": {
        "id": "Q-Oe4Q7aJQhC",
        "colab_type": "code",
        "outputId": "b3521517-b665-435e-c4a5-5ffffcdba9b8",
        "colab": {
          "base_uri": "https://localhost:8080/",
          "height": 51
        }
      },
      "source": [
        "from sklearn.neural_network import MLPClassifier\n",
        "from sklearn.model_selection import train_test_split\n",
        "\n",
        "X, y = df_to_dataset(horse_original, \"outcome\")\n",
        "X = remove_nominal(X)\n",
        "X_train, X_test, y_train, y_test = train_test_split(X, y, test_size=0.20)\n",
        "\n",
        "mlp = MLPClassifier(alpha=1e-5, hidden_layer_sizes=(100, 100, 3), max_iter=1000)\n",
        "mlp.fit(X_train, y_train)\n",
        "print(\"Train accuracy:\", mlp.score(X_train, y_train))\n",
        "print(\"Test accuracy:\", mlp.score(X_test, y_test))"
      ],
      "execution_count": 0,
      "outputs": [
        {
          "output_type": "stream",
          "text": [
            "Train accuracy: 0.7866108786610879\n",
            "Test accuracy: 0.6333333333333333\n"
          ],
          "name": "stdout"
        }
      ]
    },
    {
      "cell_type": "markdown",
      "metadata": {
        "id": "fZpKAML5XroD",
        "colab_type": "text"
      },
      "source": [
        "# Dimensionality reduction"
      ]
    },
    {
      "cell_type": "code",
      "metadata": {
        "id": "Xkh1dHmvYAhX",
        "colab_type": "code",
        "outputId": "f3481944-ca17-470c-9e36-0b483f73daf5",
        "colab": {
          "base_uri": "https://localhost:8080/",
          "height": 204
        }
      },
      "source": [
        "numerical_horse = remove_nominal(horse_original)\n",
        "numerical_horse.head()"
      ],
      "execution_count": 0,
      "outputs": [
        {
          "output_type": "execute_result",
          "data": {
            "text/html": [
              "<div>\n",
              "<style scoped>\n",
              "    .dataframe tbody tr th:only-of-type {\n",
              "        vertical-align: middle;\n",
              "    }\n",
              "\n",
              "    .dataframe tbody tr th {\n",
              "        vertical-align: top;\n",
              "    }\n",
              "\n",
              "    .dataframe thead th {\n",
              "        text-align: right;\n",
              "    }\n",
              "</style>\n",
              "<table border=\"1\" class=\"dataframe\">\n",
              "  <thead>\n",
              "    <tr style=\"text-align: right;\">\n",
              "      <th></th>\n",
              "      <th>rectal_temp</th>\n",
              "      <th>pulse</th>\n",
              "      <th>respiratory_rate</th>\n",
              "      <th>nasogastric_reflux_ph</th>\n",
              "      <th>packed_cell_volume</th>\n",
              "      <th>total_protein</th>\n",
              "      <th>abdomo_protein</th>\n",
              "    </tr>\n",
              "  </thead>\n",
              "  <tbody>\n",
              "    <tr>\n",
              "      <th>0</th>\n",
              "      <td>0.943627</td>\n",
              "      <td>0.358696</td>\n",
              "      <td>0.291667</td>\n",
              "      <td>0.000000</td>\n",
              "      <td>0.600000</td>\n",
              "      <td>0.094382</td>\n",
              "      <td>0.000000</td>\n",
              "    </tr>\n",
              "    <tr>\n",
              "      <th>1</th>\n",
              "      <td>0.960784</td>\n",
              "      <td>0.478261</td>\n",
              "      <td>0.208333</td>\n",
              "      <td>0.000000</td>\n",
              "      <td>0.666667</td>\n",
              "      <td>0.955056</td>\n",
              "      <td>0.198020</td>\n",
              "    </tr>\n",
              "    <tr>\n",
              "      <th>2</th>\n",
              "      <td>0.938725</td>\n",
              "      <td>0.217391</td>\n",
              "      <td>0.250000</td>\n",
              "      <td>0.000000</td>\n",
              "      <td>0.440000</td>\n",
              "      <td>0.075281</td>\n",
              "      <td>0.000000</td>\n",
              "    </tr>\n",
              "    <tr>\n",
              "      <th>3</th>\n",
              "      <td>0.958333</td>\n",
              "      <td>0.891304</td>\n",
              "      <td>0.875000</td>\n",
              "      <td>0.666667</td>\n",
              "      <td>0.640000</td>\n",
              "      <td>0.080899</td>\n",
              "      <td>0.524752</td>\n",
              "    </tr>\n",
              "    <tr>\n",
              "      <th>4</th>\n",
              "      <td>0.914216</td>\n",
              "      <td>0.565217</td>\n",
              "      <td>0.364583</td>\n",
              "      <td>0.000000</td>\n",
              "      <td>0.986667</td>\n",
              "      <td>0.083146</td>\n",
              "      <td>0.000000</td>\n",
              "    </tr>\n",
              "  </tbody>\n",
              "</table>\n",
              "</div>"
            ],
            "text/plain": [
              "   rectal_temp     pulse  ...  total_protein  abdomo_protein\n",
              "0     0.943627  0.358696  ...       0.094382        0.000000\n",
              "1     0.960784  0.478261  ...       0.955056        0.198020\n",
              "2     0.938725  0.217391  ...       0.075281        0.000000\n",
              "3     0.958333  0.891304  ...       0.080899        0.524752\n",
              "4     0.914216  0.565217  ...       0.083146        0.000000\n",
              "\n",
              "[5 rows x 7 columns]"
            ]
          },
          "metadata": {
            "tags": []
          },
          "execution_count": 75
        }
      ]
    },
    {
      "cell_type": "code",
      "metadata": {
        "id": "f_Q4gaJsSPXb",
        "colab_type": "code",
        "outputId": "e1209fa9-7052-44d8-d49d-0a3f24183239",
        "colab": {
          "base_uri": "https://localhost:8080/",
          "height": 269
        }
      },
      "source": [
        "from sklearn.decomposition import PCA\n",
        "import altair as alt\n",
        "import seaborn as sns\n",
        "\n",
        "numerical_horse = scale_normalize(numerical_horse)\n",
        "pca = PCA(n_components=2)\n",
        "x2 = pca.fit_transform(numerical_horse)\n",
        "\n",
        "outcome = class_to_label(y, translations['outcome'])\n",
        "pca_reduced_horse_2d = {'PC1': x2[:, 0], 'PC2': x2[:, 1], 'Outcome': outcome}\n",
        "ax = sns.scatterplot(x=\"PC1\", y=\"PC2\", hue=\"Outcome\", data=pca_reduced_horse_2d)"
      ],
      "execution_count": 0,
      "outputs": [
        {
          "output_type": "display_data",
          "data": {
            "image/png": "[encoded data removed]",
            "text/plain": [
              "<Figure size 432x288 with 1 Axes>"
            ]
          },
          "metadata": {
            "tags": []
          }
        }
      ]
    },
    {
      "cell_type": "code",
      "metadata": {
        "id": "PUT9hYisWY6y",
        "colab_type": "code",
        "outputId": "e2de98d0-6522-458d-b890-b594aa57bd21",
        "colab": {
          "base_uri": "https://localhost:8080/",
          "height": 269
        }
      },
      "source": [
        "from sklearn.manifold import TSNE\n",
        "\n",
        "numerical_horse = scale_normalize(numerical_horse)\n",
        "x3 = TSNE(n_components=2, perplexity=30.0).fit_transform(numerical_horse)\n",
        "\n",
        "\n",
        "outcome = class_to_label(y, translations['outcome'])\n",
        "tsne_reduced_horse_2d = {'PC1': x3[:, 0], 'PC2': x3[:, 1], 'Outcome': outcome}\n",
        "ax = sns.scatterplot(x=\"PC1\", y=\"PC2\", hue=\"Outcome\", data=tsne_reduced_horse_2d)"
      ],
      "execution_count": 0,
      "outputs": [
        {
          "output_type": "display_data",
          "data": {
            "image/png": "[encoded data removed]",
            "text/plain": [
              "<Figure size 432x288 with 1 Axes>"
            ]
          },
          "metadata": {
            "tags": []
          }
        }
      ]
    },
    {
      "cell_type": "markdown",
      "metadata": {
        "id": "ytr9z2TLdt8a",
        "colab_type": "text"
      },
      "source": [
        "# Breast cancer dimensionality reduction"
      ]
    },
    {
      "cell_type": "code",
      "metadata": {
        "id": "58pRE2-2ctDp",
        "colab_type": "code",
        "outputId": "01430637-4fb1-4e1e-a5f7-a15e17e795e5",
        "colab": {
          "base_uri": "https://localhost:8080/",
          "height": 269
        }
      },
      "source": [
        "from sklearn.datasets import load_breast_cancer\n",
        "from sklearn.model_selection import train_test_split\n",
        "from sklearn.decomposition import PCA\n",
        "import seaborn as sns\n",
        "\n",
        "breast = load_breast_cancer()\n",
        "\n",
        "pca = PCA(n_components=2)\n",
        "x5 = pca.fit_transform(breast.data)\n",
        "\n",
        "pca_reduced_breast_2d = {'PC1': x5[:, 0], 'PC2': x5[:, 1], 'Outcome': breast.target}\n",
        "ax = sns.scatterplot(x=\"PC1\", y=\"PC2\", hue=\"Outcome\", data=pca_reduced_breast_2d)\n"
      ],
      "execution_count": 0,
      "outputs": [
        {
          "output_type": "display_data",
          "data": {
            "image/png": "[encoded data removed]",
            "text/plain": [
              "<Figure size 432x288 with 1 Axes>"
            ]
          },
          "metadata": {
            "tags": []
          }
        }
      ]
    },
    {
      "cell_type": "code",
      "metadata": {
        "id": "A8HC4w0NbOwa",
        "colab_type": "code",
        "outputId": "a73370a5-b420-4a1f-f11b-170e119b0a56",
        "colab": {
          "base_uri": "https://localhost:8080/",
          "height": 269
        }
      },
      "source": [
        "from sklearn.datasets import load_breast_cancer\n",
        "from sklearn.model_selection import train_test_split\n",
        "from sklearn.manifold import TSNE\n",
        "import seaborn as sns\n",
        "\n",
        "breast = load_breast_cancer()\n",
        "x4 = TSNE(n_components=2, perplexity=70.0).fit_transform(breast.data)\n",
        "\n",
        "tsne_reduced_breast_2d = {'PC1': x4[:, 0], 'PC2': x4[:, 1], 'Outcome': breast.target}\n",
        "ax = sns.scatterplot(x=\"PC1\", y=\"PC2\", hue=\"Outcome\", data=tsne_reduced_breast_2d)"
      ],
      "execution_count": 0,
      "outputs": [
        {
          "output_type": "display_data",
          "data": {
            "image/png": "[encoded data removed]",
            "text/plain": [
              "<Figure size 432x288 with 1 Axes>"
            ]
          },
          "metadata": {
            "tags": []
          }
        }
      ]
    }
  ]
}